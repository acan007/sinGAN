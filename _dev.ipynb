{
 "cells": [
  {
   "cell_type": "code",
   "execution_count": 1,
   "metadata": {},
   "outputs": [],
   "source": [
    "from _settings import jupyer_notebook_print_many\n",
    "from _visualizer import *\n",
    "from _utils_torch import *\n",
    "\n",
    "import cv2\n",
    "import numpy as np\n",
    "import matplotlib.pyplot as plt\n",
    "\n",
    "from torch import nn\n",
    "from _layers import LinearBlock, Conv2dBlock, ResBlock\n",
    "from utils import *\n",
    "from networks import *\n",
    "\n",
    "jupyer_notebook_print_many()\n",
    "%matplotlib inline"
   ]
  },
  {
   "cell_type": "markdown",
   "metadata": {},
   "source": [
    "### Set up"
   ]
  },
  {
   "cell_type": "code",
   "execution_count": 2,
   "metadata": {},
   "outputs": [],
   "source": [
    "raw = plt.imread('./Input/Images/birds.png')[:, :, :3]\n",
    "\n",
    "config = get_config('./config/random_sample.yaml')\n",
    "config = adjust_scale_factor_by_image(raw, config)"
   ]
  },
  {
   "cell_type": "code",
   "execution_count": null,
   "metadata": {},
   "outputs": [],
   "source": []
  },
  {
   "cell_type": "code",
   "execution_count": 3,
   "metadata": {},
   "outputs": [],
   "source": [
    "scale_factor = config['scale_factor']\n",
    "num_scale = config['num_scale']"
   ]
  },
  {
   "cell_type": "code",
   "execution_count": 4,
   "metadata": {},
   "outputs": [],
   "source": [
    "width, height, _ = raw.shape\n",
    "\n",
    "height_pyramid, width_pyramid, real_pyramid = [], [], []\n",
    "for i in range(num_scale, -1, -1):\n",
    "    multiplier = (1 / scale_factor) ** i\n",
    "    \n",
    "    height_scaled = int(round(height * multiplier))\n",
    "    width_scaled = int(round(width * multiplier))\n",
    "    \n",
    "    height_pyramid.append(height_scaled)\n",
    "    width_pyramid.append(width_scaled)\n",
    "    \n",
    "    raw_scaled = cv2.resize(raw, (height_scaled, width_scaled))\n",
    "    raw_scaled = torch.tensor(np.transpose(raw_scaled, [2, 0, 1])[np.newaxis])\n",
    "    real_pyramid.append(raw_scaled)\n",
    "    \n",
    "generator_pyramid, discriminator_pyramid = [], []\n",
    "for scale in range(config['num_scale']):\n",
    "    dim = 32 * 2 ** (scale // 4)      # increase dim by a factor of 2 every 4 scales\n",
    "    generator_pyramid.append(Generator(input_dim=3, dim=dim, n_layers=5))\n",
    "    discriminator_pyramid.append(Discriminator(input_dim=3, dim=dim, n_layers=5))"
   ]
  },
  {
   "cell_type": "code",
   "execution_count": 6,
   "metadata": {},
   "outputs": [],
   "source": [
    "noise_optimal_pyramid = []\n",
    "for scale in range(config['num_scale']):\n",
    "    if not scale:\n",
    "        noise = torch.randn_like(real_pyramid[scale])\n",
    "    else:\n",
    "        noise = torch.zeros_like(real_pyramid[scale])\n",
    "    noise_optimal_pyramid.append(noise)"
   ]
  },
  {
   "cell_type": "code",
   "execution_count": 7,
   "metadata": {},
   "outputs": [
    {
     "name": "stdout",
     "output_type": "stream",
     "text": [
      "torch.Size([1, 3, 25, 37]) torch.Size([1, 3, 25, 37])\n",
      "torch.Size([1, 3, 33, 49]) torch.Size([1, 3, 33, 49])\n",
      "torch.Size([1, 3, 43, 64]) torch.Size([1, 3, 43, 64])\n",
      "torch.Size([1, 3, 56, 83]) torch.Size([1, 3, 56, 83])\n",
      "torch.Size([1, 3, 73, 109]) torch.Size([1, 3, 73, 109])\n",
      "torch.Size([1, 3, 96, 143]) torch.Size([1, 3, 96, 143])\n",
      "torch.Size([1, 3, 125, 187]) torch.Size([1, 3, 125, 187])\n"
     ]
    }
   ],
   "source": [
    "for scale in range(config['num_scale']):\n",
    "    print(real_pyramid[scale].shape, noise_optimal_pyramid[scale].shape)"
   ]
  },
  {
   "cell_type": "code",
   "execution_count": null,
   "metadata": {},
   "outputs": [],
   "source": []
  },
  {
   "cell_type": "code",
   "execution_count": 35,
   "metadata": {},
   "outputs": [
    {
     "data": {
      "text/plain": [
       "(1, 3, 25, 37)"
      ]
     },
     "execution_count": 35,
     "metadata": {},
     "output_type": "execute_result"
    }
   ],
   "source": [
    "tuple(real_pyramid[0].shape)"
   ]
  },
  {
   "cell_type": "code",
   "execution_count": 34,
   "metadata": {},
   "outputs": [
    {
     "ename": "TypeError",
     "evalue": "ones(): argument 'size' (position 1) must be tuple of ints, not Tensor",
     "output_type": "error",
     "traceback": [
      "\u001b[0;31m---------------------------------------------------------------------------\u001b[0m",
      "\u001b[0;31mTypeError\u001b[0m                                 Traceback (most recent call last)",
      "\u001b[0;32m<ipython-input-34-8cbe304df307>\u001b[0m in \u001b[0;36m<module>\u001b[0;34m\u001b[0m\n\u001b[0;32m----> 1\u001b[0;31m \u001b[0mtorch\u001b[0m\u001b[0;34m.\u001b[0m\u001b[0mones\u001b[0m\u001b[0;34m(\u001b[0m\u001b[0mtorch\u001b[0m\u001b[0;34m.\u001b[0m\u001b[0mones\u001b[0m\u001b[0;34m(\u001b[0m\u001b[0mtuple\u001b[0m\u001b[0;34m(\u001b[0m\u001b[0mreal_pyramid\u001b[0m\u001b[0;34m[\u001b[0m\u001b[0;36m0\u001b[0m\u001b[0;34m]\u001b[0m\u001b[0;34m.\u001b[0m\u001b[0mshape\u001b[0m\u001b[0;34m)\u001b[0m\u001b[0;34m)\u001b[0m\u001b[0;34m)\u001b[0m\u001b[0;34m\u001b[0m\u001b[0;34m\u001b[0m\u001b[0m\n\u001b[0m",
      "\u001b[0;31mTypeError\u001b[0m: ones(): argument 'size' (position 1) must be tuple of ints, not Tensor"
     ]
    }
   ],
   "source": [
    "torch.ones(torch.ones(tu`ple(real_pyramid[0].shape)))"
   ]
  },
  {
   "cell_type": "markdown",
   "metadata": {},
   "source": [
    "### dev"
   ]
  },
  {
   "cell_type": "code",
   "execution_count": 6,
   "metadata": {},
   "outputs": [],
   "source": [
    "scale = 0"
   ]
  },
  {
   "cell_type": "code",
   "execution_count": 19,
   "metadata": {},
   "outputs": [],
   "source": [
    "generator = generator_pyramid[scale]\n",
    "discriminator = generator_pyramid[scale]\n",
    "\n",
    "real = real_pyramid[0]\n",
    "real= torch.tensor(np.transpose(real, [2, 0, 1])[np.newaxis])"
   ]
  },
  {
   "cell_type": "code",
   "execution_count": 20,
   "metadata": {},
   "outputs": [
    {
     "data": {
      "text/plain": [
       "torch.Size([1, 3, 25, 37])"
      ]
     },
     "execution_count": 20,
     "metadata": {},
     "output_type": "execute_result"
    },
    {
     "data": {
      "text/plain": [
       "torch.Size([1, 3, 11, 23])"
      ]
     },
     "execution_count": 20,
     "metadata": {},
     "output_type": "execute_result"
    }
   ],
   "source": [
    "real.shape\n",
    "generator(real).shape"
   ]
  },
  {
   "cell_type": "code",
   "execution_count": 24,
   "metadata": {},
   "outputs": [
    {
     "data": {
      "text/plain": [
       "torch.Size([1, 3, 25, 37])"
      ]
     },
     "execution_count": 24,
     "metadata": {},
     "output_type": "execute_result"
    },
    {
     "data": {
      "text/plain": [
       "torch.Size([1, 3, 15, 27])"
      ]
     },
     "execution_count": 24,
     "metadata": {},
     "output_type": "execute_result"
    }
   ],
   "source": [
    "real.shape\n",
    "real[:, :, 5:-5, 5:-5].shape"
   ]
  },
  {
   "cell_type": "code",
   "execution_count": null,
   "metadata": {},
   "outputs": [],
   "source": []
  },
  {
   "cell_type": "code",
   "execution_count": null,
   "metadata": {},
   "outputs": [],
   "source": []
  },
  {
   "cell_type": "code",
   "execution_count": null,
   "metadata": {},
   "outputs": [],
   "source": []
  },
  {
   "cell_type": "code",
   "execution_count": null,
   "metadata": {},
   "outputs": [],
   "source": []
  },
  {
   "cell_type": "code",
   "execution_count": null,
   "metadata": {},
   "outputs": [],
   "source": []
  },
  {
   "cell_type": "code",
   "execution_count": null,
   "metadata": {},
   "outputs": [],
   "source": []
  },
  {
   "cell_type": "code",
   "execution_count": null,
   "metadata": {},
   "outputs": [],
   "source": []
  },
  {
   "cell_type": "code",
   "execution_count": null,
   "metadata": {},
   "outputs": [],
   "source": []
  },
  {
   "cell_type": "code",
   "execution_count": null,
   "metadata": {},
   "outputs": [],
   "source": []
  }
 ],
 "metadata": {
  "kernelspec": {
   "display_name": "Python 3",
   "language": "python",
   "name": "python3"
  },
  "language_info": {
   "codemirror_mode": {
    "name": "ipython",
    "version": 3
   },
   "file_extension": ".py",
   "mimetype": "text/x-python",
   "name": "python",
   "nbconvert_exporter": "python",
   "pygments_lexer": "ipython3",
   "version": "3.7.4"
  }
 },
 "nbformat": 4,
 "nbformat_minor": 2
}
